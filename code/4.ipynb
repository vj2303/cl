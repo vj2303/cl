{
 "cells": [
  {
   "cell_type": "code",
   "execution_count": 2,
   "id": "8f9d0398-43a7-4c5b-8812-9e63fda8c350",
   "metadata": {},
   "outputs": [
    {
     "name": "stdout",
     "output_type": "stream",
     "text": [
      "Accuracy: 0.9383033419023136\n",
      "Classification report:\n",
      "               precision    recall  f1-score   support\n",
      "\n",
      "          G1       1.00      1.00      1.00         7\n",
      "         G10       1.00      1.00      1.00         6\n",
      "          G2       0.98      1.00      0.99        54\n",
      "          G3       0.91      0.98      0.94        52\n",
      "          G4       0.90      0.97      0.93        29\n",
      "          G5       0.94      0.96      0.95        50\n",
      "          G6       0.93      0.95      0.94        85\n",
      "          G7       0.97      0.89      0.93        37\n",
      "          G8       1.00      0.70      0.82        10\n",
      "          G9       0.91      0.85      0.88        59\n",
      "\n",
      "    accuracy                           0.94       389\n",
      "   macro avg       0.95      0.93      0.94       389\n",
      "weighted avg       0.94      0.94      0.94       389\n",
      "\n",
      "Prediction for custom input: ['G9']\n"
     ]
    }
   ],
   "source": [
    "#4\n",
    "import pandas as pd\n",
    "from sklearn.model_selection import train_test_split\n",
    "from sklearn.metrics import accuracy_score, classification_report\n",
    "from sklearn.ensemble import RandomForestClassifier\n",
    "\n",
    "import warnings\n",
    "warnings.filterwarnings(\"ignore\")\n",
    "\n",
    "# Load the dataset\n",
    "df = pd.read_csv(\"polymerase_cluster.csv\")\n",
    "\n",
    "# Extract feature columns (assuming they are named as '0', '1', ..., '29')\n",
    "X = df[['0', '1', '2', '3', '4', '5', '6', '7', '8', '9', '10',\n",
    "        '11', '12', '13', '14', '15', '16', '17', '18', '19', '20', \n",
    "        '21', '22', '23', '24', '25', '26', '27', '28', '29']]\n",
    "\n",
    "# Assuming 'G' columns represent classes, combine them into a single target variable\n",
    "# Convert multi-class one-hot encoding into a single categorical target\n",
    "df['target'] = df[['G1', 'G2', 'G3', 'G4', 'G5', 'G6', 'G7', 'G8', 'G9', 'G10']].idxmax(axis=1)\n",
    "y = df['target']\n",
    "\n",
    "# Split the data into training and testing sets\n",
    "X_train, X_test, y_train, y_test = train_test_split(X, y, test_size=0.2, random_state=42)\n",
    "\n",
    "# Initialize and train the RandomForestClassifier\n",
    "rfc = RandomForestClassifier(random_state=42)\n",
    "rfc.fit(X_train, y_train)\n",
    "\n",
    "# Make predictions on the test set\n",
    "y_pred = rfc.predict(X_test)\n",
    "\n",
    "# Calculate accuracy and print the classification report\n",
    "accuracy = accuracy_score(y_test, y_pred)\n",
    "print(\"Accuracy:\", accuracy)\n",
    "cr = classification_report(y_test, y_pred)\n",
    "print(\"Classification report:\\n\", cr)\n",
    "\n",
    "# Define a new input array (should match the number of features, 30 in this case)\n",
    "# Example: Custom input for a single prediction\n",
    "custom_input = [[0.5, 1.2, -0.3, 2.1, 3.2, 0.1, -1.0, 0.4, 1.8, -0.5, \n",
    "                 0.2, 2.3, -1.2, 1.1, 0.5, 1.7, 2.6, -0.7, 1.0, -0.3,\n",
    "                 0.6, -1.4, 1.1, -0.8, 0.5, 1.9, 0.2, -1.6, 2.3, 0.9]]\n",
    "\n",
    "# Predict with custom input\n",
    "custom_pred = rfc.predict(custom_input)\n",
    "print(\"Prediction for custom input:\", custom_pred)"
   ]
  },
  {
   "cell_type": "code",
   "execution_count": null,
   "id": "0440d6c2-dc4a-448b-846b-6343f1811cb9",
   "metadata": {},
   "outputs": [],
   "source": []
  }
 ],
 "metadata": {
  "kernelspec": {
   "display_name": "Python 3 (ipykernel)",
   "language": "python",
   "name": "python3"
  },
  "language_info": {
   "codemirror_mode": {
    "name": "ipython",
    "version": 3
   },
   "file_extension": ".py",
   "mimetype": "text/x-python",
   "name": "python",
   "nbconvert_exporter": "python",
   "pygments_lexer": "ipython3",
   "version": "3.12.7"
  }
 },
 "nbformat": 4,
 "nbformat_minor": 5
}
